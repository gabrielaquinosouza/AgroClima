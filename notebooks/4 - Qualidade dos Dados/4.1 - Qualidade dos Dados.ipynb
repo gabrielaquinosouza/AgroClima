{
 "cells": [
  {
   "cell_type": "code",
   "execution_count": 0,
   "metadata": {
    "application/vnd.databricks.v1+cell": {
     "cellMetadata": {
      "byteLimit": 2048000,
      "rowLimit": 10000
     },
     "inputWidgets": {},
     "nuid": "0f69e301-f1a7-407e-87c4-b1b41c717547",
     "showTitle": false,
     "tableResultSettingsMap": {},
     "title": ""
    }
   },
   "outputs": [],
   "source": [
    "#imports\n",
    "from pyspark.sql.functions import col\n",
    "import pandas as pd"
   ]
  },
  {
   "cell_type": "code",
   "execution_count": 0,
   "metadata": {
    "application/vnd.databricks.v1+cell": {
     "cellMetadata": {
      "byteLimit": 2048000,
      "rowLimit": 10000
     },
     "inputWidgets": {},
     "nuid": "9a278322-237b-4120-9e9b-a0eba8097770",
     "showTitle": false,
     "tableResultSettingsMap": {},
     "title": ""
    }
   },
   "outputs": [],
   "source": [
    "# Define nome do Shchema\n",
    "schema = \"agroclima.gold\" \n",
    "\n",
    "#Retorna Tabelas do Shchema\n",
    "tabelas = spark.sql(f\"SHOW TABLES IN {schema}\")"
   ]
  },
  {
   "cell_type": "code",
   "execution_count": 0,
   "metadata": {
    "application/vnd.databricks.v1+cell": {
     "cellMetadata": {
      "byteLimit": 2048000,
      "rowLimit": 10000
     },
     "inputWidgets": {},
     "nuid": "5b81b53b-fbfb-4e7b-b67d-833808cd8ec2",
     "showTitle": false,
     "tableResultSettingsMap": {},
     "title": ""
    }
   },
   "outputs": [],
   "source": [
    "#filtra tabelas persistidas no databse e seleciona nome da tabela\n",
    "tabelas = tabelas.filter(\n",
    "                    col(\"isTemporary\") == \"false\"\n",
    ").select(\"tableName\")"
   ]
  },
  {
   "cell_type": "code",
   "execution_count": 0,
   "metadata": {
    "application/vnd.databricks.v1+cell": {
     "cellMetadata": {
      "byteLimit": 2048000,
      "rowLimit": 10000
     },
     "inputWidgets": {},
     "nuid": "882e6a38-fac3-401c-b848-1db4c633a077",
     "showTitle": false,
     "tableResultSettingsMap": {},
     "title": ""
    }
   },
   "outputs": [],
   "source": [
    "#função que retorna a quantidade de linhas de uma tabela\n",
    "def qtd_linhas(tabela):\n",
    "    df = spark.read.table(f\"{schema}.{tabela}\")\n",
    "    return df.count()\n",
    "\n",
    "\n"
   ]
  },
  {
   "cell_type": "code",
   "execution_count": 0,
   "metadata": {
    "application/vnd.databricks.v1+cell": {
     "cellMetadata": {
      "byteLimit": 2048000,
      "rowLimit": 10000
     },
     "inputWidgets": {},
     "nuid": "aca876fd-f7a4-4fe8-829a-5d744a351da0",
     "showTitle": false,
     "tableResultSettingsMap": {},
     "title": ""
    }
   },
   "outputs": [],
   "source": [
    "# Função que retorna media de valores nulos\n",
    "def media_nulos(tabela):\n",
    "    df = spark.read.table(\"agroclima.gold.ft_temperaturas\")\n",
    "    percentuais_nulos = df.toPandas().isnull().sum() / df.count()\n",
    "    media = percentuais_nulos.mean()\n",
    "    return media\n"
   ]
  },
  {
   "cell_type": "code",
   "execution_count": 0,
   "metadata": {
    "application/vnd.databricks.v1+cell": {
     "cellMetadata": {
      "byteLimit": 2048000,
      "rowLimit": 10000
     },
     "inputWidgets": {},
     "nuid": "02adf9c8-1fb1-45a4-b627-688a8fcccbdc",
     "showTitle": false,
     "tableResultSettingsMap": {},
     "title": ""
    }
   },
   "outputs": [],
   "source": [
    "#Cria Lista com dicionarios de validações\n",
    "validacoes = []\n",
    "for tabela in tabelas.collect():\n",
    "    validacoes.append({\n",
    "        \"FONTE_DE_DADOS\": tabela[\"tableName\"],\n",
    "        \"QTD_ROWS\": qtd_linhas(tabela[\"tableName\"]),\n",
    "        \"NULL_RATIO_MED\": media_nulos(tabela[\"tableName\"])\n",
    "    })"
   ]
  },
  {
   "cell_type": "code",
   "execution_count": 0,
   "metadata": {
    "application/vnd.databricks.v1+cell": {
     "cellMetadata": {
      "byteLimit": 2048000,
      "rowLimit": 10000
     },
     "inputWidgets": {},
     "nuid": "5b85d256-5945-4247-a1ca-d634c5eead45",
     "showTitle": false,
     "tableResultSettingsMap": {},
     "title": ""
    }
   },
   "outputs": [],
   "source": [
    "# Transforma lista em Dataframe\n",
    "df_valida = pd.DataFrame(validacoes)"
   ]
  },
  {
   "cell_type": "code",
   "execution_count": 0,
   "metadata": {
    "application/vnd.databricks.v1+cell": {
     "cellMetadata": {
      "byteLimit": 2048000,
      "rowLimit": 10000
     },
     "inputWidgets": {},
     "nuid": "0eab5842-92c6-4b6a-9740-fe25ca5df2ba",
     "showTitle": false,
     "tableResultSettingsMap": {},
     "title": ""
    }
   },
   "outputs": [],
   "source": [
    "display(df_valida)"
   ]
  }
 ],
 "metadata": {
  "application/vnd.databricks.v1+notebook": {
   "computePreferences": null,
   "dashboards": [],
   "environmentMetadata": {
    "base_environment": "",
    "environment_version": "3"
   },
   "inputWidgetPreferences": null,
   "language": "python",
   "notebookMetadata": {
    "mostRecentlyExecutedCommandWithImplicitDF": {
     "commandId": -1,
     "dataframes": [
      "_sqldf"
     ]
    },
    "pythonIndentUnit": 4
   },
   "notebookName": "4.1 - Qualidade dos Dados",
   "widgets": {}
  },
  "language_info": {
   "name": "python"
  }
 },
 "nbformat": 4,
 "nbformat_minor": 0
}
