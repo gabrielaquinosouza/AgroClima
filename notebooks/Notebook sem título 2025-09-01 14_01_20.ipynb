{
 "cells": [
  {
   "cell_type": "code",
   "execution_count": 0,
   "metadata": {
    "application/vnd.databricks.v1+cell": {
     "cellMetadata": {
      "byteLimit": 2048000,
      "implicitDf": true,
      "rowLimit": 10000
     },
     "inputWidgets": {},
     "nuid": "433363c0-f158-41ef-823c-ba0423551391",
     "showTitle": false,
     "tableResultSettingsMap": {},
     "title": ""
    }
   },
   "outputs": [],
   "source": [
    "%sql\n",
    "DESCRIBE DETAIL agroclima.gold.ft_temperaturas"
   ]
  },
  {
   "cell_type": "code",
   "execution_count": 0,
   "metadata": {
    "application/vnd.databricks.v1+cell": {
     "cellMetadata": {
      "byteLimit": 2048000,
      "rowLimit": 10000
     },
     "inputWidgets": {},
     "nuid": "972a5ad8-845e-4944-8300-816f75eca637",
     "showTitle": false,
     "tableResultSettingsMap": {},
     "title": ""
    }
   },
   "outputs": [],
   "source": [
    "# Ler tabela Delta do Unity Catalog\n",
    "df = spark.table(\"agroclima.gold.ft_temperaturas\")\n",
    "\n",
    "# Escrever em Delta no FileStore\n",
    "df.write.format(\"delta\").mode(\"overwrite\").partitionBy('tipo', 'ano', 'mes').save(\"/Volumes/agroclima/gold/arquivos/ft_temperaturas\")  /Workspace/Users/gabriel.aquino1608@gmail.com/AgroClima/notebooks/Notebook sem título 2025-09-01 14_01_20\n"
   ]
  },
  {
   "cell_type": "code",
   "execution_count": 0,
   "metadata": {
    "application/vnd.databricks.v1+cell": {
     "cellMetadata": {
      "byteLimit": 2048000,
      "rowLimit": 10000
     },
     "inputWidgets": {},
     "nuid": "7007d28a-0256-4a15-b1da-d66688f8b42a",
     "showTitle": false,
     "tableResultSettingsMap": {},
     "title": ""
    }
   },
   "outputs": [],
   "source": [
    "import shutil\n",
    "\n",
    "# Caminho da pasta no volume\n",
    "src = \"/Volumes/agroclima/gold/arquivos/ft_temperaturas\"\n",
    "\n",
    "# Compactar em ZIP dentro do /tmp\n",
    "shutil.make_archive(\"/Workspace/Users/gabriel.aquino1608@gmail.com/AgroClima/notebooks/minha_pasta_zip\", 'zip', src)"
   ]
  }
 ],
 "metadata": {
  "application/vnd.databricks.v1+notebook": {
   "computePreferences": null,
   "dashboards": [],
   "environmentMetadata": {
    "base_environment": "",
    "environment_version": "3"
   },
   "inputWidgetPreferences": null,
   "language": "python",
   "notebookMetadata": {
    "mostRecentlyExecutedCommandWithImplicitDF": {
     "commandId": 7178934902815441,
     "dataframes": [
      "_sqldf"
     ]
    },
    "pythonIndentUnit": 4
   },
   "notebookName": "Notebook sem título 2025-09-01 14_01_20",
   "widgets": {}
  },
  "language_info": {
   "name": "python"
  }
 },
 "nbformat": 4,
 "nbformat_minor": 0
}
