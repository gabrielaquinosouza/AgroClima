{
 "cells": [
  {
   "cell_type": "code",
   "execution_count": 0,
   "metadata": {
    "application/vnd.databricks.v1+cell": {
     "cellMetadata": {
      "byteLimit": 2048000,
      "rowLimit": 10000
     },
     "inputWidgets": {},
     "nuid": "d87ee370-aabe-4bfe-b621-f7e1b5df8c9b",
     "showTitle": false,
     "tableResultSettingsMap": {},
     "title": ""
    }
   },
   "outputs": [],
   "source": [
    "#imports\n",
    "import pandas as pd"
   ]
  },
  {
   "cell_type": "code",
   "execution_count": 0,
   "metadata": {
    "application/vnd.databricks.v1+cell": {
     "cellMetadata": {
      "byteLimit": 2048000,
      "rowLimit": 10000
     },
     "inputWidgets": {},
     "nuid": "3219f32a-4365-4c12-b81f-1db8f179cbde",
     "showTitle": false,
     "tableResultSettingsMap": {},
     "title": ""
    }
   },
   "outputs": [],
   "source": [
    "#Variaveis do Unity Catalog\n",
    "CATALOGO = \"agroclima\"\n",
    "SCHEMA = \"gold\"\n",
    "TABELA = \"dm_safras\"\n",
    "\n",
    "# Montar caminho da tabela\n",
    "caminho_tabela = f\"{CATALOGO}.{SCHEMA}.{TABELA}\""
   ]
  },
  {
   "cell_type": "code",
   "execution_count": 0,
   "metadata": {
    "application/vnd.databricks.v1+cell": {
     "cellMetadata": {
      "byteLimit": 2048000,
      "rowLimit": 10000
     },
     "inputWidgets": {},
     "nuid": "21d34fec-18dd-49f8-9b90-379f960c43d7",
     "showTitle": false,
     "tableResultSettingsMap": {},
     "title": ""
    }
   },
   "outputs": [],
   "source": [
    "# Dados das safras e meses de plantio\n",
    "safras = [\n",
    "    {\"safra\": \"Milho (em grão) - 1ª safra\", \"id_safra\": 114253, \"meses\": [9, 10, 11, 12]},\n",
    "    {\"safra\": \"Milho (em grão) - 2ª safra\", \"id_safra\": 114254, \"meses\": [1, 2, 3]},\n",
    "]"
   ]
  },
  {
   "cell_type": "code",
   "execution_count": 0,
   "metadata": {
    "application/vnd.databricks.v1+cell": {
     "cellMetadata": {
      "byteLimit": 2048000,
      "rowLimit": 10000
     },
     "inputWidgets": {},
     "nuid": "5763c53e-1e7f-47d6-9432-386cbb637e52",
     "showTitle": false,
     "tableResultSettingsMap": {},
     "title": ""
    }
   },
   "outputs": [],
   "source": [
    "dados = []\n",
    "\n",
    "for safra_info in safras:\n",
    "    safra = safra_info[\"safra\"]\n",
    "    safra_id = safra_info[\"id_safra\"]\n",
    "    for mes in safra_info[\"meses\"]:\n",
    "        dados.append({\n",
    "            \"Safra\": safra,\n",
    "            \"Mes\": mes,\n",
    "            \"safra_id\": safra_id\n",
    "        })\n"
   ]
  },
  {
   "cell_type": "code",
   "execution_count": 0,
   "metadata": {
    "application/vnd.databricks.v1+cell": {
     "cellMetadata": {
      "byteLimit": 2048000,
      "rowLimit": 10000
     },
     "inputWidgets": {},
     "nuid": "6a00d4ce-eb50-4deb-bbd7-f151d014e8fd",
     "showTitle": false,
     "tableResultSettingsMap": {},
     "title": ""
    }
   },
   "outputs": [],
   "source": [
    "# Criar DataFrame\n",
    "df_safras = pd.DataFrame(dados)\n"
   ]
  },
  {
   "cell_type": "code",
   "execution_count": 0,
   "metadata": {
    "application/vnd.databricks.v1+cell": {
     "cellMetadata": {
      "byteLimit": 2048000,
      "rowLimit": 10000
     },
     "inputWidgets": {},
     "nuid": "211b01ab-d5d9-495a-904b-cf906073d297",
     "showTitle": false,
     "tableResultSettingsMap": {},
     "title": ""
    }
   },
   "outputs": [],
   "source": [
    "df_safras = spark.createDataFrame(df_safras)"
   ]
  },
  {
   "cell_type": "code",
   "execution_count": 0,
   "metadata": {
    "application/vnd.databricks.v1+cell": {
     "cellMetadata": {
      "byteLimit": 2048000,
      "rowLimit": 10000
     },
     "inputWidgets": {},
     "nuid": "00a01460-4325-4850-8950-36fe27e81d03",
     "showTitle": false,
     "tableResultSettingsMap": {},
     "title": ""
    }
   },
   "outputs": [],
   "source": [
    "# salvar tabela Unity Catalog\n",
    "df_safras.write \\\n",
    "         .format(\"delta\") \\\n",
    "         .mode(\"overwrite\") \\\n",
    "         .saveAsTable(caminho_tabela)"
   ]
  }
 ],
 "metadata": {
  "application/vnd.databricks.v1+notebook": {
   "computePreferences": null,
   "dashboards": [],
   "environmentMetadata": {
    "base_environment": "",
    "environment_version": "3"
   },
   "inputWidgetPreferences": null,
   "language": "python",
   "notebookMetadata": {
    "mostRecentlyExecutedCommandWithImplicitDF": {
     "commandId": 7178934902815405,
     "dataframes": [
      "_sqldf"
     ]
    },
    "pythonIndentUnit": 4
   },
   "notebookName": "3.4 - Carga dm_safras",
   "widgets": {}
  },
  "language_info": {
   "name": "python"
  }
 },
 "nbformat": 4,
 "nbformat_minor": 0
}
