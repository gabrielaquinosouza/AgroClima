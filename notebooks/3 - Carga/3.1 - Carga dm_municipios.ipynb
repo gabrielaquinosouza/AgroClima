{
 "cells": [
  {
   "cell_type": "code",
   "execution_count": 0,
   "metadata": {
    "application/vnd.databricks.v1+cell": {
     "cellMetadata": {
      "byteLimit": 2048000,
      "implicitDf": true,
      "rowLimit": 10000
     },
     "inputWidgets": {},
     "nuid": "3b330a32-444f-445d-86a5-fe974d7a2853",
     "showTitle": false,
     "tableResultSettingsMap": {},
     "title": ""
    }
   },
   "outputs": [],
   "source": [
    "%sql\n",
    "/* Cria View temporaria para manipulaçao dos dados */\n",
    "CREATE OR REPLACE TEMPORARY VIEW vw_municipios \n",
    "AS\n",
    "SELECT \n",
    "      *\n",
    "FROM\n",
    "      agroclima.silver.municipios"
   ]
  },
  {
   "cell_type": "code",
   "execution_count": 0,
   "metadata": {
    "application/vnd.databricks.v1+cell": {
     "cellMetadata": {
      "byteLimit": 2048000,
      "implicitDf": true,
      "rowLimit": 10000
     },
     "inputWidgets": {},
     "nuid": "9cd02bad-d870-43d8-a9bb-007288a55c1d",
     "showTitle": false,
     "tableResultSettingsMap": {},
     "title": ""
    }
   },
   "outputs": [],
   "source": [
    "%sql\n",
    "/*Atualiza valor da data de ingestao para data/hora atual*/\n",
    "UPDATE \n",
    "        vw_municipios\n",
    "SET\n",
    "      _data_ingestao = current_timestamp()"
   ]
  },
  {
   "cell_type": "code",
   "execution_count": 0,
   "metadata": {
    "application/vnd.databricks.v1+cell": {
     "cellMetadata": {
      "byteLimit": 2048000,
      "implicitDf": true,
      "rowLimit": 10000
     },
     "inputWidgets": {},
     "nuid": "16c1a24b-7733-4eea-8c68-32b41fb0fb72",
     "showTitle": false,
     "tableResultSettingsMap": {},
     "title": ""
    }
   },
   "outputs": [],
   "source": [
    "%sql\n",
    "/* Criando Dimensão de municipios */\n",
    "CREATE OR REPLACE TABLE agroclima.gold.dm_municipios \n",
    "USING DELTA\n",
    "AS\n",
    "SELECT \n",
    "      *\n",
    "FROM\n",
    "      vw_municipios\n",
    "\n",
    "\n"
   ]
  },
  {
   "cell_type": "code",
   "execution_count": 0,
   "metadata": {
    "application/vnd.databricks.v1+cell": {
     "cellMetadata": {},
     "inputWidgets": {},
     "nuid": "29ed129e-54c0-40ff-b003-eec09d4f0c2e",
     "showTitle": false,
     "tableResultSettingsMap": {},
     "title": ""
    }
   },
   "outputs": [],
   "source": [
    "# os dados foram salvo em tabelas delta devido ao beneficios que e esse formato oferece, como transaçoes acid, gerenciamento de versão, etc.\n",
    "\n",
    "# A tabela de dm_municipios não foi particionada devido ao seu tanho ser pequeno e particionar poderia afetar a performance de forma negativa."
   ]
  }
 ],
 "metadata": {
  "application/vnd.databricks.v1+notebook": {
   "computePreferences": null,
   "dashboards": [],
   "environmentMetadata": {
    "base_environment": "",
    "environment_version": "3"
   },
   "inputWidgetPreferences": null,
   "language": "python",
   "notebookMetadata": {
    "mostRecentlyExecutedCommandWithImplicitDF": {
     "commandId": 7178934902815381,
     "dataframes": [
      "_sqldf"
     ]
    },
    "pythonIndentUnit": 4
   },
   "notebookName": "3.1 - Carga dm_municipios",
   "widgets": {}
  },
  "language_info": {
   "name": "python"
  }
 },
 "nbformat": 4,
 "nbformat_minor": 0
}
