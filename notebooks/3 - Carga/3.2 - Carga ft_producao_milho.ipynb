{
 "cells": [
  {
   "cell_type": "code",
   "execution_count": 0,
   "metadata": {
    "application/vnd.databricks.v1+cell": {
     "cellMetadata": {
      "byteLimit": 2048000,
      "implicitDf": true,
      "rowLimit": 10000
     },
     "inputWidgets": {},
     "nuid": "6d479f01-fea4-444b-8c50-41a14fe58250",
     "showTitle": false,
     "tableResultSettingsMap": {},
     "title": ""
    }
   },
   "outputs": [],
   "source": [
    "%sql\n",
    "/* Cria view temporaria para manipulação dos dados */\n",
    "CREATE OR REPLACE TEMPORARY VIEW vw_producao\n",
    "AS\n",
    "SELECT \n",
    "        municipio_id,\n",
    "        ano,\n",
    "        safra_id,\n",
    "        safra,\n",
    "        tipo_indicador,\n",
    "        valor\n",
    "FROM\n",
    "        agroclima.silver.producao_milho"
   ]
  },
  {
   "cell_type": "code",
   "execution_count": 0,
   "metadata": {
    "application/vnd.databricks.v1+cell": {
     "cellMetadata": {
      "byteLimit": 2048000,
      "implicitDf": true,
      "rowLimit": 10000
     },
     "inputWidgets": {},
     "nuid": "59250506-e6b6-4aab-957f-65ea938a6962",
     "showTitle": false,
     "tableResultSettingsMap": {},
     "title": ""
    }
   },
   "outputs": [],
   "source": [
    "%sql\n",
    "/* Cria tabela de produção de milho na camada gold */ \n",
    "CREATE OR REPLACE TABLE agroclima.gold.ft_producao_milho\n",
    "USING DELTA\n",
    "PARTITIONED BY(ano, safra)\n",
    "AS\n",
    "SELECT \n",
    "      *,\n",
    "      current_timestamp() as _data_ingestao\n",
    "FROM\n",
    "      vw_producao"
   ]
  },
  {
   "cell_type": "code",
   "execution_count": 0,
   "metadata": {
    "application/vnd.databricks.v1+cell": {
     "cellMetadata": {},
     "inputWidgets": {},
     "nuid": "987118d3-8749-42bb-845c-9acbe363e3f9",
     "showTitle": false,
     "tableResultSettingsMap": {},
     "title": ""
    }
   },
   "outputs": [],
   "source": [
    "# os dados foram salvo em tabelas delta devido ao beneficios que e esse formato oferece, como transaçoes acid, gerenciamento de versão, etc.\n",
    "\n",
    "# Os dados foram particionados por ano e safra para otimizar as consultas temporais"
   ]
  }
 ],
 "metadata": {
  "application/vnd.databricks.v1+notebook": {
   "computePreferences": null,
   "dashboards": [],
   "environmentMetadata": {
    "base_environment": "",
    "environment_version": "3"
   },
   "inputWidgetPreferences": null,
   "language": "python",
   "notebookMetadata": {
    "mostRecentlyExecutedCommandWithImplicitDF": {
     "commandId": 7178934902815391,
     "dataframes": [
      "_sqldf"
     ]
    },
    "pythonIndentUnit": 4
   },
   "notebookName": "3.2 - Carga ft_producao_milho",
   "widgets": {}
  },
  "language_info": {
   "name": "python"
  }
 },
 "nbformat": 4,
 "nbformat_minor": 0
}
