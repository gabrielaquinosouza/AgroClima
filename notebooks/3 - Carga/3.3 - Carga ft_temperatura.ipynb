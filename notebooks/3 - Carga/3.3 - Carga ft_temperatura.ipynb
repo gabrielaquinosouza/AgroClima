{
 "cells": [
  {
   "cell_type": "code",
   "execution_count": 0,
   "metadata": {
    "application/vnd.databricks.v1+cell": {
     "cellMetadata": {
      "byteLimit": 2048000,
      "implicitDf": true,
      "rowLimit": 10000
     },
     "inputWidgets": {},
     "nuid": "0db02b36-0ed4-4851-a577-043880e7da60",
     "showTitle": false,
     "tableResultSettingsMap": {
      "0": {
       "dataGridStateBlob": "{\"version\":1,\"tableState\":{\"columnPinning\":{\"left\":[\"#row_number#\"],\"right\":[]},\"columnSizing\":{},\"columnVisibility\":{}},\"settings\":{\"columns\":{}},\"syncTimestamp\":1756733262775}",
       "filterBlob": null,
       "queryPlanFiltersBlob": null,
       "tableResultIndex": 0
      }
     },
     "title": ""
    }
   },
   "outputs": [],
   "source": [
    "%sql\n",
    "CREATE OR REPLACE TABLE agroclima.gold.ft_temperaturas\n",
    "USING DELTA\n",
    "PARTITIONED BY(tipo, ano, mes)\n",
    "AS\n",
    "SELECT \n",
    "      municipio_id,\n",
    "      tipo,\n",
    "      cast(ano as int) AS ano,\n",
    "      cast(mes as int) as mes,\n",
    "      CASE \n",
    "            WHEN tipo =  'rain_sum' THEN ROUND(SUM(valor),2)\n",
    "            ELSE ROUND(AVG(valor),2)\n",
    "      END AS valor,\n",
    "      current_timestamp() AS _data_ingestao\n",
    "FROM \n",
    "      agroclima.silver.temperaturas\n",
    "GROUP BY \n",
    "      municipio_id,\n",
    "      tipo,\n",
    "      ano,\n",
    "      mes"
   ]
  }
 ],
 "metadata": {
  "application/vnd.databricks.v1+notebook": {
   "computePreferences": null,
   "dashboards": [],
   "environmentMetadata": {
    "base_environment": "",
    "environment_version": "3"
   },
   "inputWidgetPreferences": null,
   "language": "python",
   "notebookMetadata": {
    "mostRecentlyExecutedCommandWithImplicitDF": {
     "commandId": 7178934902815402,
     "dataframes": [
      "_sqldf"
     ]
    },
    "pythonIndentUnit": 4
   },
   "notebookName": "3.3 - Carga ft_temperatura",
   "widgets": {}
  },
  "language_info": {
   "name": "python"
  }
 },
 "nbformat": 4,
 "nbformat_minor": 0
}
