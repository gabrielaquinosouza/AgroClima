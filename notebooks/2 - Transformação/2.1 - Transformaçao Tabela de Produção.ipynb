{
 "cells": [
  {
   "cell_type": "code",
   "execution_count": 0,
   "metadata": {
    "application/vnd.databricks.v1+cell": {
     "cellMetadata": {
      "byteLimit": 2048000,
      "rowLimit": 10000
     },
     "inputWidgets": {},
     "nuid": "67f70592-c4fa-4506-9245-18e59a0335f2",
     "showTitle": false,
     "tableResultSettingsMap": {},
     "title": ""
    }
   },
   "outputs": [],
   "source": [
    "# Imports\n",
    "from pyspark.sql.functions import explode, col, current_timestamp\n",
    "from pyspark.sql.types import IntegerType\n",
    "from utils.transform import explode_struct"
   ]
  },
  {
   "cell_type": "code",
   "execution_count": 0,
   "metadata": {
    "application/vnd.databricks.v1+cell": {
     "cellMetadata": {
      "byteLimit": 2048000,
      "rowLimit": 10000
     },
     "inputWidgets": {},
     "nuid": "1a78d614-600e-4c84-89a4-977e2315bd2c",
     "showTitle": false,
     "tableResultSettingsMap": {},
     "title": ""
    }
   },
   "outputs": [],
   "source": [
    "#Variaveis do Unity Catalog\n",
    "CATALOGO = \"agroclima\"\n",
    "SCHEMA = \"silver\"\n",
    "TABELA = \"producao_milho\"\n",
    "\n",
    "# Montar caminho da tabela\n",
    "caminho_tabela = f\"{CATALOGO}.{SCHEMA}.{TABELA}\""
   ]
  },
  {
   "cell_type": "code",
   "execution_count": 0,
   "metadata": {
    "application/vnd.databricks.v1+cell": {
     "cellMetadata": {
      "byteLimit": 2048000,
      "rowLimit": 10000
     },
     "inputWidgets": {},
     "nuid": "8f553073-4e9c-47d7-9dca-2450a6336331",
     "showTitle": false,
     "tableResultSettingsMap": {},
     "title": ""
    }
   },
   "outputs": [],
   "source": [
    "#Carrega tabela de produção da camda bronze\n",
    "df_producao_milho = spark.table(\"agroclima.bronze.producao_milho\")"
   ]
  },
  {
   "cell_type": "markdown",
   "metadata": {
    "application/vnd.databricks.v1+cell": {
     "cellMetadata": {
      "byteLimit": 2048000,
      "rowLimit": 10000
     },
     "inputWidgets": {},
     "nuid": "98520a23-cea5-4cfc-b1fb-6994555645f5",
     "showTitle": false,
     "tableResultSettingsMap": {},
     "title": ""
    }
   },
   "source": [
    "#### Transformação"
   ]
  },
  {
   "cell_type": "code",
   "execution_count": 0,
   "metadata": {
    "application/vnd.databricks.v1+cell": {
     "cellMetadata": {
      "byteLimit": 2048000,
      "rowLimit": 10000
     },
     "inputWidgets": {},
     "nuid": "47d296a0-1f67-44a8-8b51-bf0bb184b5b3",
     "showTitle": false,
     "tableResultSettingsMap": {},
     "title": ""
    }
   },
   "outputs": [],
   "source": [
    "# explode a coluna resultados\n",
    "df_transformado = df_producao_milho.select(\n",
    "    \"*\", \n",
    "    explode(\"resultados\").alias(\"resultado\")\n",
    ")"
   ]
  },
  {
   "cell_type": "code",
   "execution_count": 0,
   "metadata": {
    "application/vnd.databricks.v1+cell": {
     "cellMetadata": {
      "byteLimit": 2048000,
      "rowLimit": 10000
     },
     "inputWidgets": {},
     "nuid": "ec935f06-8c20-4b32-ab16-ec4cd5179288",
     "showTitle": false,
     "tableResultSettingsMap": {},
     "title": ""
    }
   },
   "outputs": [],
   "source": [
    "# explode a coluna series\n",
    "df_transformado = df_transformado.select(\n",
    "    \"*\",\n",
    "    explode(\"resultado.series\").alias(\"item\")\n",
    ")"
   ]
  },
  {
   "cell_type": "code",
   "execution_count": 0,
   "metadata": {
    "application/vnd.databricks.v1+cell": {
     "cellMetadata": {
      "byteLimit": 2048000,
      "rowLimit": 10000
     },
     "inputWidgets": {},
     "nuid": "f8245385-a9fb-4ca4-8c7d-c3fbcabc2a1e",
     "showTitle": false,
     "tableResultSettingsMap": {},
     "title": ""
    }
   },
   "outputs": [],
   "source": [
    "# Extrai as colunas da hierarquia de localidade\n",
    "df_transformado = df_transformado.select(\n",
    "    \"*\",\n",
    "    col(\"item.localidade.id\").alias(\"municipio_id\"),\n",
    "    col(\"item.localidade.nome\").alias(\"municipio_nome\")\n",
    ")"
   ]
  },
  {
   "cell_type": "code",
   "execution_count": 0,
   "metadata": {
    "application/vnd.databricks.v1+cell": {
     "cellMetadata": {
      "byteLimit": 2048000,
      "rowLimit": 10000
     },
     "inputWidgets": {},
     "nuid": "c9d8ecbd-2283-48d5-84c2-021f97d67dfa",
     "showTitle": false,
     "tableResultSettingsMap": {},
     "title": ""
    }
   },
   "outputs": [],
   "source": [
    "# Pega nome das colunas para a despivotagem\n",
    "colunas_df = df_transformado.columns"
   ]
  },
  {
   "cell_type": "code",
   "execution_count": 0,
   "metadata": {
    "application/vnd.databricks.v1+cell": {
     "cellMetadata": {
      "byteLimit": 2048000,
      "rowLimit": 10000
     },
     "inputWidgets": {},
     "nuid": "82375f6b-07af-4ee6-b435-b7c01c6187a9",
     "showTitle": false,
     "tableResultSettingsMap": {},
     "title": ""
    }
   },
   "outputs": [],
   "source": [
    "# Extrai as colunas da hierarquia de serie \n",
    "df_transformado = df_transformado.select(\n",
    "    \"*\",\n",
    "    col(\"item.serie.*\")\n",
    ")"
   ]
  },
  {
   "cell_type": "code",
   "execution_count": 0,
   "metadata": {
    "application/vnd.databricks.v1+cell": {
     "cellMetadata": {
      "byteLimit": 2048000,
      "rowLimit": 10000
     },
     "inputWidgets": {},
     "nuid": "5f76c422-901e-45b3-af72-0177be63300c",
     "showTitle": false,
     "tableResultSettingsMap": {},
     "title": ""
    }
   },
   "outputs": [],
   "source": [
    "#Busca Lista de Colunas \n",
    "colunas_pivotagem = df_transformado.columns\n",
    "\n",
    "#Lista de Colunas que serão transformadas em Linhas\n",
    "colunas_despivotagem  = list(set(colunas_pivotagem) - set(colunas_df))"
   ]
  },
  {
   "cell_type": "code",
   "execution_count": 0,
   "metadata": {
    "application/vnd.databricks.v1+cell": {
     "cellMetadata": {
      "byteLimit": 2048000,
      "rowLimit": 10000
     },
     "inputWidgets": {},
     "nuid": "09a142e9-aa9b-4aac-824c-3939c085dc5a",
     "showTitle": false,
     "tableResultSettingsMap": {},
     "title": ""
    }
   },
   "outputs": [],
   "source": [
    "#Obs: Impelemntação poderia ser feita com a função adaptada explode_struct\n",
    "\n",
    "# Despivotagem no Dataframe Transformando as colunas com os anos em Linhas\n",
    "df_producao_milho = df_transformado.unpivot(colunas_df, colunas_despivotagem, \"ano_chave\", \"valor\" )\n",
    "\n",
    "#display(df_transformado)"
   ]
  },
  {
   "cell_type": "code",
   "execution_count": 0,
   "metadata": {
    "application/vnd.databricks.v1+cell": {
     "cellMetadata": {
      "byteLimit": 2048000,
      "rowLimit": 10000
     },
     "inputWidgets": {},
     "nuid": "bd02c9cf-f0c4-49df-a7e0-952e94f8f015",
     "showTitle": false,
     "tableResultSettingsMap": {},
     "title": ""
    }
   },
   "outputs": [],
   "source": [
    "# Explode a coluna de categoria pois e um lista\n",
    "df_transformado = df_transformado = df_producao_milho.select(\n",
    "    \"*\",\n",
    "    explode(col(\"resultado.classificacoes.categoria\")).alias(\"categoria\")\n",
    ")"
   ]
  },
  {
   "cell_type": "code",
   "execution_count": 0,
   "metadata": {
    "application/vnd.databricks.v1+cell": {
     "cellMetadata": {
      "byteLimit": 2048000,
      "rowLimit": 10000
     },
     "inputWidgets": {},
     "nuid": "ae3a6c1d-a6a5-4e49-9406-a3bccc86570b",
     "showTitle": false,
     "tableResultSettingsMap": {},
     "title": ""
    }
   },
   "outputs": [],
   "source": [
    "\n",
    "#Chama função personalizada que explode a categoria em varias Linhas\n",
    "df_transformado = explode_struct(df_transformado, \"categoria\", \"safra_id\", \"safra\")\n",
    "\n",
    "#display(df_transformado)"
   ]
  },
  {
   "cell_type": "markdown",
   "metadata": {
    "application/vnd.databricks.v1+cell": {
     "cellMetadata": {
      "byteLimit": 2048000,
      "rowLimit": 10000
     },
     "inputWidgets": {},
     "nuid": "6933a13c-f1a1-4994-ad36-979dc58bdfe4",
     "showTitle": false,
     "tableResultSettingsMap": {},
     "title": ""
    }
   },
   "source": [
    "#### Limpeza"
   ]
  },
  {
   "cell_type": "code",
   "execution_count": 0,
   "metadata": {
    "application/vnd.databricks.v1+cell": {
     "cellMetadata": {
      "byteLimit": 2048000,
      "rowLimit": 10000
     },
     "inputWidgets": {},
     "nuid": "56ad195b-462b-43f4-818a-1526e691188e",
     "showTitle": false,
     "tableResultSettingsMap": {},
     "title": ""
    }
   },
   "outputs": [],
   "source": [
    "#Verifica os nomes das colunas do dataframe\n",
    "df_transformado.columns"
   ]
  },
  {
   "cell_type": "code",
   "execution_count": 0,
   "metadata": {
    "application/vnd.databricks.v1+cell": {
     "cellMetadata": {
      "byteLimit": 2048000,
      "rowLimit": 10000
     },
     "inputWidgets": {},
     "nuid": "2c575085-7540-4c32-8e02-3aa798db9a50",
     "showTitle": false,
     "tableResultSettingsMap": {},
     "title": ""
    }
   },
   "outputs": [],
   "source": [
    "#lista de colunas que serão removidas do dataframe\n",
    "colunas_a_remover = [\"resultados\", \"ano\", \"_data_ingestao\", \"resultado\", \"item\", \"categoria\"]\n",
    "\n",
    "#Remove colunas da Lista colunas_a_remover\n",
    "df_limpeza = df_transformado.drop(*colunas_a_remover)\n",
    "\n",
    "#display(df_limpeza)"
   ]
  },
  {
   "cell_type": "code",
   "execution_count": 0,
   "metadata": {
    "application/vnd.databricks.v1+cell": {
     "cellMetadata": {
      "byteLimit": 2048000,
      "rowLimit": 10000
     },
     "inputWidgets": {},
     "nuid": "e71f9e44-c5d1-4feb-955b-6109450ced18",
     "showTitle": false,
     "tableResultSettingsMap": {},
     "title": ""
    }
   },
   "outputs": [],
   "source": [
    "#Renomeia Colunas \n",
    "df_limpeza  = df_limpeza.withColumnRenamed(\"id\", \"tipo_indicador_id\") \\\n",
    "                            .withColumnRenamed(\"variavel\", \"tipo_indicador\") \\\n",
    "                            .withColumnRenamed(\"ano_chave\", \"ano\")"
   ]
  },
  {
   "cell_type": "code",
   "execution_count": 0,
   "metadata": {
    "application/vnd.databricks.v1+cell": {
     "cellMetadata": {
      "byteLimit": 2048000,
      "rowLimit": 10000
     },
     "inputWidgets": {},
     "nuid": "c395055a-de0a-42fe-b91c-cf69a915eae3",
     "showTitle": false,
     "tableResultSettingsMap": {},
     "title": ""
    }
   },
   "outputs": [],
   "source": [
    "# Verifica  Percetual de valores Nulos\n",
    "#df_limpeza.toPandas().isnull().sum() / df_limpeza.count()"
   ]
  },
  {
   "cell_type": "code",
   "execution_count": 0,
   "metadata": {
    "application/vnd.databricks.v1+cell": {
     "cellMetadata": {
      "byteLimit": 2048000,
      "rowLimit": 10000
     },
     "inputWidgets": {},
     "nuid": "bef47b2b-c7b1-4ca5-ae1a-47a357aa0132",
     "showTitle": false,
     "tableResultSettingsMap": {},
     "title": ""
    }
   },
   "outputs": [],
   "source": [
    "# Transforma a coluna de valor em inteiro, valores não convertido será null\n",
    "df_limpeza = df_limpeza.withColumn(\"valor\", col(\"valor\").try_cast(\"int\"))"
   ]
  },
  {
   "cell_type": "code",
   "execution_count": 0,
   "metadata": {
    "application/vnd.databricks.v1+cell": {
     "cellMetadata": {
      "byteLimit": 2048000,
      "rowLimit": 10000
     },
     "inputWidgets": {},
     "nuid": "f3f9bb38-1971-4b71-9ad4-6f5bdb8cd9c0",
     "showTitle": false,
     "tableResultSettingsMap": {},
     "title": ""
    }
   },
   "outputs": [],
   "source": [
    "# Remove Valores Nulos\n",
    "df_limpeza = df_limpeza.filter(\n",
    "    (col(\"safra\").isNotNull()) & col(\"valor\").isNotNull()\n",
    ")"
   ]
  },
  {
   "cell_type": "code",
   "execution_count": 0,
   "metadata": {
    "application/vnd.databricks.v1+cell": {
     "cellMetadata": {
      "byteLimit": 2048000,
      "rowLimit": 10000
     },
     "inputWidgets": {},
     "nuid": "b4898c8f-cd5f-478d-9120-146d447f0e3d",
     "showTitle": false,
     "tableResultSettingsMap": {},
     "title": ""
    }
   },
   "outputs": [],
   "source": [
    "# Altera  tipos dos Identificadores\n",
    "df_limpeza = df_limpeza.withColumn(\"tipo_indicador_id\", col(\"tipo_indicador_id\").cast(\"int\")) \\\n",
    "                       .withColumn(\"municipio_id\", col(\"municipio_id\").cast(\"int\")) \\\n",
    "                       .withColumn(\"ano\", col(\"ano\").cast(\"int\")) \\\n",
    "                       .withColumn(\"safra_id\", col(\"safra_id\").cast(\"int\"))\n",
    "    \n",
    "\n",
    "#display(df_limpeza)"
   ]
  },
  {
   "cell_type": "code",
   "execution_count": 0,
   "metadata": {
    "application/vnd.databricks.v1+cell": {
     "cellMetadata": {
      "byteLimit": 2048000,
      "rowLimit": 10000
     },
     "inputWidgets": {},
     "nuid": "b4791dd7-c7c8-469d-9ae8-eaa2aa5ef977",
     "showTitle": false,
     "tableResultSettingsMap": {},
     "title": ""
    }
   },
   "outputs": [],
   "source": [
    "#Verifica se há linhas duplicadas\n",
    "#print(df_limpeza.count())\n",
    "#print(df_limpeza.distinct().count())"
   ]
  },
  {
   "cell_type": "markdown",
   "metadata": {
    "application/vnd.databricks.v1+cell": {
     "cellMetadata": {
      "byteLimit": 2048000,
      "rowLimit": 10000
     },
     "inputWidgets": {},
     "nuid": "b8c655d2-a8b7-433a-bf15-c5728cc33b99",
     "showTitle": false,
     "tableResultSettingsMap": {},
     "title": ""
    }
   },
   "source": [
    "#### Carga"
   ]
  },
  {
   "cell_type": "code",
   "execution_count": 0,
   "metadata": {
    "application/vnd.databricks.v1+cell": {
     "cellMetadata": {
      "byteLimit": 2048000,
      "rowLimit": 10000
     },
     "inputWidgets": {},
     "nuid": "88c658bf-d09f-4a01-8970-6e9a9dcdc91c",
     "showTitle": false,
     "tableResultSettingsMap": {},
     "title": ""
    }
   },
   "outputs": [],
   "source": [
    "#Adiciona Data e horario de Ingestão dos dados\n",
    "df_carga = df_limpeza.withColumn(\"_data_ingestao\", current_timestamp())"
   ]
  },
  {
   "cell_type": "code",
   "execution_count": 0,
   "metadata": {
    "application/vnd.databricks.v1+cell": {
     "cellMetadata": {
      "byteLimit": 2048000,
      "rowLimit": 10000
     },
     "inputWidgets": {},
     "nuid": "58a19489-3fc9-4e81-8e0d-f71ea47307b6",
     "showTitle": false,
     "tableResultSettingsMap": {},
     "title": ""
    }
   },
   "outputs": [],
   "source": [
    "#Salva Tabela Limpa e Transformada  na camada Silver\n",
    "df_carga.write.format(\"delta\") \\\n",
    "        .mode(\"overwrite\") \\\n",
    "        .partitionBy(\"uf\", \"tipo_indicador\", \"ano\") \\\n",
    "        .option(\"overWriteSchema\", \"true\") \\\n",
    "        .saveAsTable(caminho_tabela)"
   ]
  }
 ],
 "metadata": {
  "application/vnd.databricks.v1+notebook": {
   "computePreferences": {
    "hardware": {
     "accelerator": null,
     "gpuPoolId": null,
     "memory": null
    }
   },
   "dashboards": [],
   "environmentMetadata": {
    "base_environment": "",
    "environment_version": "3"
   },
   "inputWidgetPreferences": null,
   "language": "python",
   "notebookMetadata": {
    "mostRecentlyExecutedCommandWithImplicitDF": {
     "commandId": 5639666101143592,
     "dataframes": [
      "_sqldf"
     ]
    },
    "pythonIndentUnit": 4
   },
   "notebookName": "2.1 - Transformaçao Tabela de Produção",
   "widgets": {}
  },
  "language_info": {
   "name": "python"
  }
 },
 "nbformat": 4,
 "nbformat_minor": 0
}
