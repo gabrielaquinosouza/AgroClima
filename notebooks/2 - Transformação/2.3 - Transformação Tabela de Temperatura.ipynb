{
 "cells": [
  {
   "cell_type": "code",
   "execution_count": 0,
   "metadata": {
    "application/vnd.databricks.v1+cell": {
     "cellMetadata": {
      "byteLimit": 2048000,
      "rowLimit": 10000
     },
     "inputWidgets": {},
     "nuid": "215640eb-ee0d-4cb1-87be-547539658834",
     "showTitle": false,
     "tableResultSettingsMap": {},
     "title": ""
    }
   },
   "outputs": [],
   "source": [
    "#imports \n",
    "\n",
    "from pyspark.sql.functions import explode, col, arrays_zip, month, when, round, current_timestamp\n",
    "from utils.transform import explode_struct"
   ]
  },
  {
   "cell_type": "code",
   "execution_count": 0,
   "metadata": {
    "application/vnd.databricks.v1+cell": {
     "cellMetadata": {
      "byteLimit": 2048000,
      "rowLimit": 10000
     },
     "inputWidgets": {},
     "nuid": "9226573c-71a8-408d-a6df-00db939811b6",
     "showTitle": false,
     "tableResultSettingsMap": {},
     "title": ""
    }
   },
   "outputs": [],
   "source": [
    "#Variaveis do Unity Catalog\n",
    "CATALOGO = \"agroclima\"\n",
    "SCHEMA = \"silver\"\n",
    "TABELA = \"temperaturas\"\n",
    "\n",
    "# Montar caminho da tabela\n",
    "caminho_tabela = f\"{CATALOGO}.{SCHEMA}.{TABELA}\""
   ]
  },
  {
   "cell_type": "code",
   "execution_count": 0,
   "metadata": {
    "application/vnd.databricks.v1+cell": {
     "cellMetadata": {
      "byteLimit": 2048000,
      "rowLimit": 10000
     },
     "inputWidgets": {},
     "nuid": "570029a1-c099-4f9e-900b-78646efb2894",
     "showTitle": false,
     "tableResultSettingsMap": {},
     "title": ""
    }
   },
   "outputs": [],
   "source": [
    "# Carrega Tabela de Temperaturas\n",
    "df_temperatura = spark.read.table(\"agroclima.bronze.temperatura\")"
   ]
  },
  {
   "cell_type": "markdown",
   "metadata": {
    "application/vnd.databricks.v1+cell": {
     "cellMetadata": {
      "byteLimit": 2048000,
      "rowLimit": 10000
     },
     "inputWidgets": {},
     "nuid": "6b1752ef-a323-44c4-b4f4-2cca25f2333b",
     "showTitle": false,
     "tableResultSettingsMap": {},
     "title": ""
    }
   },
   "source": [
    "#### Transformação"
   ]
  },
  {
   "cell_type": "code",
   "execution_count": 0,
   "metadata": {
    "application/vnd.databricks.v1+cell": {
     "cellMetadata": {
      "byteLimit": 2048000,
      "rowLimit": 10000
     },
     "inputWidgets": {},
     "nuid": "93b45f1c-e46b-4f05-8544-917005a6a8aa",
     "showTitle": false,
     "tableResultSettingsMap": {},
     "title": ""
    }
   },
   "outputs": [],
   "source": [
    "# junta os elementos correpondentes de cada array em uma so estrutura\n",
    "df_transformado = df_temperatura.select(\n",
    "                            \"*\",\n",
    "                            arrays_zip(\n",
    "                                col(\"daily.time\"),\n",
    "                                col(\"daily.temperature_2m_max\"),\n",
    "                                col(\"daily.temperature_2m_min\"),\n",
    "                                col(\"daily.relative_humidity_2m_max\"),\n",
    "                                col(\"daily.relative_humidity_2m_min\"),\n",
    "                                col(\"daily.sunshine_duration\"),\n",
    "                                col(\"daily.precipitation_hours\"),\n",
    "                                col(\"daily.daylight_duration\"),\n",
    "                                col(\"daily.precipitation_sum\"),\n",
    "                                col('daily.rain_sum')\n",
    "                            ).alias('valores_zipados')\n",
    "                    )"
   ]
  },
  {
   "cell_type": "code",
   "execution_count": 0,
   "metadata": {
    "application/vnd.databricks.v1+cell": {
     "cellMetadata": {
      "byteLimit": 2048000,
      "rowLimit": 10000
     },
     "inputWidgets": {},
     "nuid": "2086aa74-85d0-4375-91e5-184ff6f7a194",
     "showTitle": false,
     "tableResultSettingsMap": {},
     "title": ""
    }
   },
   "outputs": [],
   "source": [
    "#Explode para que cada conjunto fique em uma linha\n",
    "df_transformado = df_transformado.select(\n",
    "                            \"*\",\n",
    "                            explode(col(\"valores_zipados\")).alias(\"valores\")\n",
    ").drop(\"valores_zipados\")"
   ]
  },
  {
   "cell_type": "code",
   "execution_count": 0,
   "metadata": {
    "application/vnd.databricks.v1+cell": {
     "cellMetadata": {
      "byteLimit": 2048000,
      "rowLimit": 10000
     },
     "inputWidgets": {},
     "nuid": "4cc0d3d8-edee-49f2-9cd9-7547c11497bd",
     "showTitle": false,
     "tableResultSettingsMap": {},
     "title": ""
    }
   },
   "outputs": [],
   "source": [
    "#Transforma os valores em colunas separadas\n",
    "df_transformado = df_transformado.select(\n",
    "                            \"*\",\n",
    "                            col(\"valores.time\").alias(\"data\")\n",
    "                        )"
   ]
  },
  {
   "cell_type": "code",
   "execution_count": 0,
   "metadata": {
    "application/vnd.databricks.v1+cell": {
     "cellMetadata": {
      "byteLimit": 2048000,
      "rowLimit": 10000
     },
     "inputWidgets": {},
     "nuid": "df24fbb1-3e12-4b73-a696-8161115e2925",
     "showTitle": false,
     "tableResultSettingsMap": {},
     "title": ""
    }
   },
   "outputs": [],
   "source": [
    "#Explode Estrutura em Linhas\n",
    "df_transformado = explode_struct(df_transformado, \"valores\", \"tipo\", \"valor\")"
   ]
  },
  {
   "cell_type": "code",
   "execution_count": 0,
   "metadata": {
    "application/vnd.databricks.v1+cell": {
     "cellMetadata": {
      "byteLimit": 2048000,
      "rowLimit": 10000
     },
     "inputWidgets": {},
     "nuid": "e06faf96-6e0e-4c85-b593-d100324a9024",
     "showTitle": false,
     "tableResultSettingsMap": {},
     "title": ""
    }
   },
   "outputs": [],
   "source": [
    "# Transforma a coluna de data em Date\n",
    "df_transformado = df_transformado.withColumn(\"data\", col(\"data\").cast(\"date\"))"
   ]
  },
  {
   "cell_type": "code",
   "execution_count": 0,
   "metadata": {
    "application/vnd.databricks.v1+cell": {
     "cellMetadata": {
      "byteLimit": 2048000,
      "rowLimit": 10000
     },
     "inputWidgets": {},
     "nuid": "79cf33dd-7849-4266-99ee-551e60951d69",
     "showTitle": false,
     "tableResultSettingsMap": {},
     "title": ""
    }
   },
   "outputs": [],
   "source": [
    "#Cria Coluna de Mês para particionamento dos dados\n",
    "df_transformado = df_transformado.withColumn(\"mes\", month(col(\"data\")))"
   ]
  },
  {
   "cell_type": "markdown",
   "metadata": {
    "application/vnd.databricks.v1+cell": {
     "cellMetadata": {
      "byteLimit": 2048000,
      "rowLimit": 10000
     },
     "inputWidgets": {},
     "nuid": "b30feb7b-5479-4484-9e0c-c8f8182675e2",
     "showTitle": false,
     "tableResultSettingsMap": {},
     "title": ""
    }
   },
   "source": [
    "#### Limpeza"
   ]
  },
  {
   "cell_type": "code",
   "execution_count": 0,
   "metadata": {
    "application/vnd.databricks.v1+cell": {
     "cellMetadata": {
      "byteLimit": 2048000,
      "rowLimit": 10000
     },
     "inputWidgets": {},
     "nuid": "28df4426-6cad-463b-bf74-08fe0aeca1bf",
     "showTitle": false,
     "tableResultSettingsMap": {},
     "title": ""
    }
   },
   "outputs": [],
   "source": [
    "df_transformado.columns"
   ]
  },
  {
   "cell_type": "code",
   "execution_count": 0,
   "metadata": {
    "application/vnd.databricks.v1+cell": {
     "cellMetadata": {
      "byteLimit": 2048000,
      "rowLimit": 10000
     },
     "inputWidgets": {},
     "nuid": "40db898b-e4c7-499a-bbb0-e0cd1f2fc3fc",
     "showTitle": false,
     "tableResultSettingsMap": {},
     "title": ""
    }
   },
   "outputs": [],
   "source": [
    "#Seleciona as colunas necessárias\n",
    "df_limpeza = df_transformado.select(\n",
    "                    \"municipio_id\",\n",
    "                    \"tipo\",\n",
    "                    \"valor\",\n",
    "                    \"data\",\n",
    "                    \"uf\",\n",
    "                    \"ano\",\n",
    "                    \"mes\"\n",
    "\n",
    ")"
   ]
  },
  {
   "cell_type": "code",
   "execution_count": 0,
   "metadata": {
    "application/vnd.databricks.v1+cell": {
     "cellMetadata": {
      "byteLimit": 2048000,
      "rowLimit": 10000
     },
     "inputWidgets": {},
     "nuid": "04b14d9a-f9e4-4e98-8886-77d553db1d4d",
     "showTitle": false,
     "tableResultSettingsMap": {},
     "title": ""
    }
   },
   "outputs": [],
   "source": [
    "# Remove Linhas com o tipo time\n",
    "df_limpeza = df_limpeza.filter(\n",
    "        col(\"tipo\") != \"time\"\n",
    ")"
   ]
  },
  {
   "cell_type": "code",
   "execution_count": 0,
   "metadata": {
    "application/vnd.databricks.v1+cell": {
     "cellMetadata": {
      "byteLimit": 2048000,
      "rowLimit": 10000
     },
     "inputWidgets": {},
     "nuid": "dd67ba0a-da01-4176-afe0-19066cc5fd63",
     "showTitle": false,
     "tableResultSettingsMap": {},
     "title": ""
    }
   },
   "outputs": [],
   "source": [
    "# Transforma a coluna de valor em double e ano em int\n",
    "df_limpeza = df_limpeza.withColumn(\"valor\", col(\"valor\").cast(\"double\")) \\\n",
    "                        .withColumn(\"ano\", col(\"ano\").cast(\"int\"))"
   ]
  },
  {
   "cell_type": "code",
   "execution_count": 0,
   "metadata": {
    "application/vnd.databricks.v1+cell": {
     "cellMetadata": {
      "byteLimit": 2048000,
      "rowLimit": 10000
     },
     "inputWidgets": {},
     "nuid": "6868a10d-5b6f-4afd-83dc-1ef19f08bc55",
     "showTitle": false,
     "tableResultSettingsMap": {},
     "title": ""
    }
   },
   "outputs": [],
   "source": [
    "#Transforma os valores de Duração do Sol e Duração da Luz do Dia de segundos para Horas\n",
    "df_limpeza = df_limpeza.withColumn(\n",
    "        \"valor\",\n",
    "        when(col(\"tipo\").isin(\"sunshine_duration\", \"daylight_duration\"), round(col(\"valor\")/3600, 1))\n",
    "        .otherwise(col(\"valor\"))\n",
    ")\n",
    "\n",
    "#display(df_limpeza)"
   ]
  },
  {
   "cell_type": "markdown",
   "metadata": {
    "application/vnd.databricks.v1+cell": {
     "cellMetadata": {
      "byteLimit": 2048000,
      "rowLimit": 10000
     },
     "inputWidgets": {},
     "nuid": "646c835b-2b6d-4cd1-9929-368fb233dd5a",
     "showTitle": false,
     "tableResultSettingsMap": {},
     "title": ""
    }
   },
   "source": [
    "#### Qualidade dos Dados"
   ]
  },
  {
   "cell_type": "code",
   "execution_count": 0,
   "metadata": {
    "application/vnd.databricks.v1+cell": {
     "cellMetadata": {
      "byteLimit": 2048000,
      "rowLimit": 10000
     },
     "inputWidgets": {},
     "nuid": "3efe3543-a04f-4f42-8052-0b9d3ed8c553",
     "showTitle": false,
     "tableResultSettingsMap": {},
     "title": ""
    }
   },
   "outputs": [],
   "source": [
    "# Verificando se há linhas duplicadas \n",
    "#print(df_limpeza.count())\n",
    "#print(df_limpeza.distinct().count())"
   ]
  },
  {
   "cell_type": "code",
   "execution_count": 0,
   "metadata": {
    "application/vnd.databricks.v1+cell": {
     "cellMetadata": {
      "byteLimit": 2048000,
      "rowLimit": 10000
     },
     "inputWidgets": {},
     "nuid": "933797a7-dbe4-44e8-a736-114896ff2ce1",
     "showTitle": false,
     "tableResultSettingsMap": {},
     "title": ""
    }
   },
   "outputs": [],
   "source": [
    "# Verificando Percentual de Valores Nulos por coluna\n",
    "#df_limpeza.toPandas().isnull().sum() / df_limpeza.count()"
   ]
  },
  {
   "cell_type": "code",
   "execution_count": 0,
   "metadata": {
    "application/vnd.databricks.v1+cell": {
     "cellMetadata": {
      "byteLimit": 2048000,
      "rowLimit": 10000
     },
     "inputWidgets": {},
     "nuid": "4ebca0bd-5b4e-4a55-9566-2bad136aca68",
     "showTitle": false,
     "tableResultSettingsMap": {},
     "title": ""
    }
   },
   "outputs": [],
   "source": [
    "# verificando quantidade de linhas e range das colunas \n",
    "#df_limpeza.summary().show()"
   ]
  },
  {
   "cell_type": "markdown",
   "metadata": {
    "application/vnd.databricks.v1+cell": {
     "cellMetadata": {
      "byteLimit": 2048000,
      "rowLimit": 10000
     },
     "inputWidgets": {},
     "nuid": "b41f40a8-c198-470a-af29-cb4bd7bd4e7e",
     "showTitle": false,
     "tableResultSettingsMap": {},
     "title": ""
    }
   },
   "source": [
    "#### Carga"
   ]
  },
  {
   "cell_type": "code",
   "execution_count": 0,
   "metadata": {
    "application/vnd.databricks.v1+cell": {
     "cellMetadata": {
      "byteLimit": 2048000,
      "rowLimit": 10000
     },
     "inputWidgets": {},
     "nuid": "643c482a-015f-4c3d-ac2f-261589a77525",
     "showTitle": false,
     "tableResultSettingsMap": {},
     "title": ""
    }
   },
   "outputs": [],
   "source": [
    "df_carga = df_limpeza.withColumn(\"_data_ingestao\", current_timestamp())"
   ]
  },
  {
   "cell_type": "code",
   "execution_count": 0,
   "metadata": {
    "application/vnd.databricks.v1+cell": {
     "cellMetadata": {
      "byteLimit": 2048000,
      "rowLimit": 10000
     },
     "inputWidgets": {},
     "nuid": "c2ae99fd-be87-46a7-81d4-5a8ba772a55d",
     "showTitle": false,
     "tableResultSettingsMap": {},
     "title": ""
    }
   },
   "outputs": [],
   "source": [
    "df_carga.write.format(\"delta\") \\\n",
    "              .mode(\"overwrite\") \\\n",
    "              .partitionBy(\"uf\", \"tipo\", \"ano\", \"mes\") \\\n",
    "              .option(\"overwriteSchema\", \"true\") \\\n",
    "              .saveAsTable(caminho_tabela)"
   ]
  }
 ],
 "metadata": {
  "application/vnd.databricks.v1+notebook": {
   "computePreferences": null,
   "dashboards": [],
   "environmentMetadata": {
    "base_environment": "",
    "environment_version": "3"
   },
   "inputWidgetPreferences": null,
   "language": "python",
   "notebookMetadata": {
    "pythonIndentUnit": 4
   },
   "notebookName": "2.3 - Transformação Tabela de Temperatura",
   "widgets": {}
  },
  "language_info": {
   "name": "python"
  }
 },
 "nbformat": 4,
 "nbformat_minor": 0
}
