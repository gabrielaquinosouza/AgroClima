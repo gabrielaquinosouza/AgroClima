{
 "cells": [
  {
   "cell_type": "code",
   "execution_count": 0,
   "metadata": {
    "application/vnd.databricks.v1+cell": {
     "cellMetadata": {
      "byteLimit": 2048000,
      "rowLimit": 10000
     },
     "inputWidgets": {},
     "nuid": "a58e7c53-ea4c-4cf1-86ee-44e0b9159b90",
     "showTitle": false,
     "tableResultSettingsMap": {},
     "title": ""
    }
   },
   "outputs": [],
   "source": [
    "#imports \n",
    "\n",
    "from pyspark.sql.functions import current_timestamp"
   ]
  },
  {
   "cell_type": "code",
   "execution_count": 0,
   "metadata": {
    "application/vnd.databricks.v1+cell": {
     "cellMetadata": {
      "byteLimit": 2048000,
      "rowLimit": 10000
     },
     "inputWidgets": {},
     "nuid": "a9b186ae-0fa5-4535-888d-54e49a95d923",
     "showTitle": false,
     "tableResultSettingsMap": {},
     "title": ""
    }
   },
   "outputs": [],
   "source": [
    "#Variaveis do Unity Catalog\n",
    "CATALOGO = \"agroclima\"\n",
    "SCHEMA = \"silver\"\n",
    "TABELA = \"municipios\"\n",
    "\n",
    "# Montar caminho da tabela\n",
    "caminho_tabela = f\"{CATALOGO}.{SCHEMA}.{TABELA}\""
   ]
  },
  {
   "cell_type": "code",
   "execution_count": 0,
   "metadata": {
    "application/vnd.databricks.v1+cell": {
     "cellMetadata": {
      "byteLimit": 2048000,
      "rowLimit": 10000
     },
     "inputWidgets": {},
     "nuid": "dddee4cf-c3e4-4c42-ba46-b0e9b4d789d2",
     "showTitle": false,
     "tableResultSettingsMap": {},
     "title": ""
    }
   },
   "outputs": [],
   "source": [
    "# Carrega a tabela de munipios \n",
    "df_municipios = spark.read.table(\"agroclima.bronze.municipios\")"
   ]
  },
  {
   "cell_type": "code",
   "execution_count": 0,
   "metadata": {
    "application/vnd.databricks.v1+cell": {
     "cellMetadata": {
      "byteLimit": 2048000,
      "rowLimit": 10000
     },
     "inputWidgets": {},
     "nuid": "bb1ba4fc-ea17-457f-adbb-eef50b9a1515",
     "showTitle": false,
     "tableResultSettingsMap": {},
     "title": ""
    }
   },
   "outputs": [],
   "source": [
    "# Carrega Tabela de Localização usando o Metodo sql e ja selecionando as colunas que serão usadas\n",
    "df_localizacao = spark.sql(\"\"\"\n",
    "                           \n",
    "                           SELECT \n",
    "                                 codigo_ibge,\n",
    "                                 ddd,\n",
    "                                 latitude,\n",
    "                                 longitude,\n",
    "                                 siafi_id\n",
    "                           FROM \n",
    "                                 agroclima.bronze.localizacao_municipios\n",
    "                    \"\"\")"
   ]
  },
  {
   "cell_type": "markdown",
   "metadata": {
    "application/vnd.databricks.v1+cell": {
     "cellMetadata": {
      "byteLimit": 2048000,
      "rowLimit": 10000
     },
     "inputWidgets": {},
     "nuid": "48bc5d15-0c37-42f8-9637-b9ec424b01ea",
     "showTitle": false,
     "tableResultSettingsMap": {},
     "title": ""
    }
   },
   "source": [
    "#### Transformação"
   ]
  },
  {
   "cell_type": "code",
   "execution_count": 0,
   "metadata": {
    "application/vnd.databricks.v1+cell": {
     "cellMetadata": {
      "byteLimit": 2048000,
      "rowLimit": 10000
     },
     "inputWidgets": {},
     "nuid": "f7dec1c2-f575-4d0e-827a-57d75c66d1f1",
     "showTitle": false,
     "tableResultSettingsMap": {},
     "title": ""
    }
   },
   "outputs": [],
   "source": [
    "#Verifica Nome das Colunas do dataframe\n",
    "df_municipios.columns"
   ]
  },
  {
   "cell_type": "code",
   "execution_count": 0,
   "metadata": {
    "application/vnd.databricks.v1+cell": {
     "cellMetadata": {
      "byteLimit": 2048000,
      "rowLimit": 10000
     },
     "inputWidgets": {},
     "nuid": "83564a6d-ef0b-433a-9ecf-7a077903453e",
     "showTitle": false,
     "tableResultSettingsMap": {},
     "title": ""
    }
   },
   "outputs": [],
   "source": [
    "# Renmeia Colunas do Dataframe\n",
    "df_transformado = df_municipios.withColumnRenamed(\"id\",\"municipio_id\") \\\n",
    "                        .withColumnRenamed(\"microrregiao.id\", \"microrregiao_id\") \\\n",
    "                        .withColumnRenamed(\"microrregiao.nome\", \"microrregiao\") \\\n",
    "                        .withColumnRenamed(\"microrregiao.mesorregiao.id\", \"mesorregiao_id\") \\\n",
    "                        .withColumnRenamed(\"microrregiao.mesorregiao.nome\", \"mesorregiao\") \\\n",
    "                        .withColumnRenamed(\"microrregiao.mesorregiao.UF.id\", \"uf_id\") \\\n",
    "                        .withColumnRenamed(\"microrregiao.mesorregiao.UF.nome\", \"estado\") \\\n",
    "                        .withColumnRenamed(\"microrregiao.mesorregiao.UF.regiao.id\", \"regiao_id\") \\\n",
    "                        .withColumnRenamed(\"microrregiao.mesorregiao.UF.regiao.nome\", \"regiao\") \\\n",
    "                        .withColumnRenamed(\"microrregiao.mesorregiao.UF.regiao.sigla\", \"regiao_sigla\") \\\n",
    "                        .withColumnRenamed(\"regiao-imediata.id\", \"regiao_imediata_id\") \\\n",
    "                        .withColumnRenamed(\"regiao-imediata.nome\", \"regiao_imediata\") \\\n",
    "                        .withColumnRenamed(\"regiao-imediata.regiao-intermediaria.id\",\"regiao_intermediaria_id\")\\\n",
    "                        .withColumnRenamed(\"regiao-imediata.regiao-intermediaria.nome\", \"regiao_intermediaria\")"
   ]
  },
  {
   "cell_type": "code",
   "execution_count": 0,
   "metadata": {
    "application/vnd.databricks.v1+cell": {
     "cellMetadata": {
      "byteLimit": 2048000,
      "rowLimit": 10000
     },
     "inputWidgets": {},
     "nuid": "3847136f-284a-4a3b-8a96-065f6424d3af",
     "showTitle": false,
     "tableResultSettingsMap": {},
     "title": ""
    }
   },
   "outputs": [],
   "source": [
    "# Enriquecimento da Base juntando os dados de municipio com a localização\n",
    "df_transformado = df_transformado.join(df_localizacao, df_transformado.municipio_id == df_localizacao.codigo_ibge, \"left\")\n",
    "\n",
    "#display(df_transformado)"
   ]
  },
  {
   "cell_type": "markdown",
   "metadata": {
    "application/vnd.databricks.v1+cell": {
     "cellMetadata": {
      "byteLimit": 2048000,
      "rowLimit": 10000
     },
     "inputWidgets": {},
     "nuid": "1d799704-58ff-4e68-8e92-68604b54cd6d",
     "showTitle": false,
     "tableResultSettingsMap": {},
     "title": ""
    }
   },
   "source": [
    "#### LImpeza"
   ]
  },
  {
   "cell_type": "code",
   "execution_count": 0,
   "metadata": {
    "application/vnd.databricks.v1+cell": {
     "cellMetadata": {
      "byteLimit": 2048000,
      "rowLimit": 10000
     },
     "inputWidgets": {},
     "nuid": "6eb1c203-6711-4d60-9d47-cda7e6040248",
     "showTitle": false,
     "tableResultSettingsMap": {
      "0": {
       "dataGridStateBlob": "{\"version\":1,\"tableState\":{\"columnPinning\":{\"left\":[\"#row_number#\"],\"right\":[]},\"columnSizing\":{},\"columnVisibility\":{}},\"settings\":{\"columns\":{}},\"syncTimestamp\":1756577749651}",
       "filterBlob": null,
       "queryPlanFiltersBlob": null,
       "tableResultIndex": 0
      }
     },
     "title": ""
    }
   },
   "outputs": [],
   "source": [
    "#Lista de Colunas que se~rao removidas\n",
    "colunas_a_remover = [\"microrregiao.mesorregiao.UF.sigla\", \"regiao-imediata.regiao-intermediaria.UF.id\", \\\n",
    "                     \"regiao-imediata.regiao-intermediaria.UF.sigla\", \"regiao-imediata.regiao-intermediaria.UF.nome\", \"regiao-imediata.regiao-intermediaria.UF.regiao.id\", \"regiao-imediata.regiao-intermediaria.UF.regiao.sigla\", \"regiao-imediata.regiao-intermediaria.UF.regiao.nome\", \"codigo_ibge\"]"
   ]
  },
  {
   "cell_type": "code",
   "execution_count": 0,
   "metadata": {
    "application/vnd.databricks.v1+cell": {
     "cellMetadata": {
      "byteLimit": 2048000,
      "rowLimit": 10000
     },
     "inputWidgets": {},
     "nuid": "1834bede-3657-4bb5-82e5-f3951200a509",
     "showTitle": false,
     "tableResultSettingsMap": {},
     "title": ""
    }
   },
   "outputs": [],
   "source": [
    "# Remove Colunas que não serão utilizadas\n",
    "df_limpeza = df_transformado.drop(*colunas_a_remover)"
   ]
  },
  {
   "cell_type": "code",
   "execution_count": 0,
   "metadata": {
    "application/vnd.databricks.v1+cell": {
     "cellMetadata": {
      "byteLimit": 2048000,
      "rowLimit": 10000
     },
     "inputWidgets": {},
     "nuid": "c520348a-e2a3-4e5f-9768-590e6fddb4e2",
     "showTitle": false,
     "tableResultSettingsMap": {},
     "title": ""
    }
   },
   "outputs": [],
   "source": [
    "# Verificando se há linhas duplicadas \n",
    "#print(df_limpeza.count())\n",
    "#print(df_limpeza.distinct().count())"
   ]
  },
  {
   "cell_type": "markdown",
   "metadata": {
    "application/vnd.databricks.v1+cell": {
     "cellMetadata": {
      "byteLimit": 2048000,
      "rowLimit": 10000
     },
     "inputWidgets": {},
     "nuid": "2e339d51-5aba-45ed-8e30-9874be2d71bf",
     "showTitle": false,
     "tableResultSettingsMap": {},
     "title": ""
    }
   },
   "source": [
    "#### Carga"
   ]
  },
  {
   "cell_type": "code",
   "execution_count": 0,
   "metadata": {
    "application/vnd.databricks.v1+cell": {
     "cellMetadata": {
      "byteLimit": 2048000,
      "rowLimit": 10000
     },
     "inputWidgets": {},
     "nuid": "7f276faa-a978-4481-be46-75b9e1879e5a",
     "showTitle": false,
     "tableResultSettingsMap": {},
     "title": ""
    }
   },
   "outputs": [],
   "source": [
    "#Adiciona data da ingestão dos dados\n",
    "df_carga = df_limpeza.withColumn('_data_ingestao', current_timestamp())"
   ]
  },
  {
   "cell_type": "code",
   "execution_count": 0,
   "metadata": {
    "application/vnd.databricks.v1+cell": {
     "cellMetadata": {
      "byteLimit": 2048000,
      "rowLimit": 10000
     },
     "inputWidgets": {},
     "nuid": "06a447b7-abbc-4ce1-8648-ff8dcf734aa0",
     "showTitle": false,
     "tableResultSettingsMap": {},
     "title": ""
    }
   },
   "outputs": [],
   "source": [
    "df_carga.write.format(\"delta\") \\\n",
    "              .mode('overwrite') \\\n",
    "              .partitionBy(\"uf\") \\\n",
    "              .option(\"overwriteSchema\", \"true\") \\\n",
    "              .saveAsTable(caminho_tabela)"
   ]
  }
 ],
 "metadata": {
  "application/vnd.databricks.v1+notebook": {
   "computePreferences": null,
   "dashboards": [],
   "environmentMetadata": {
    "base_environment": "",
    "environment_version": "3"
   },
   "inputWidgetPreferences": null,
   "language": "python",
   "notebookMetadata": {
    "pythonIndentUnit": 4
   },
   "notebookName": "2.2 - Transformação Tabela de Municipio",
   "widgets": {}
  },
  "language_info": {
   "name": "python"
  }
 },
 "nbformat": 4,
 "nbformat_minor": 0
}
