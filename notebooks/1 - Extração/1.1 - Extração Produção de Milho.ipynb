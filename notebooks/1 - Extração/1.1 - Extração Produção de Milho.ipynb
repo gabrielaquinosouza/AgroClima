{
 "cells": [
  {
   "cell_type": "code",
   "execution_count": 0,
   "metadata": {
    "application/vnd.databricks.v1+cell": {
     "cellMetadata": {
      "byteLimit": 2048000,
      "rowLimit": 10000
     },
     "inputWidgets": {},
     "nuid": "dac9bfc6-decc-4a6f-845d-87b019195f44",
     "showTitle": false,
     "tableResultSettingsMap": {},
     "title": ""
    }
   },
   "outputs": [],
   "source": [
    "# imports\n",
    "\n",
    "import json\n",
    "from utils.api import buscar_dados, obter_estado_id_por_uf\n",
    "from pyspark.sql.functions import current_timestamp, lit\n",
    "import pandas as pd\n",
    " "
   ]
  },
  {
   "cell_type": "code",
   "execution_count": 0,
   "metadata": {
    "application/vnd.databricks.v1+cell": {
     "cellMetadata": {
      "byteLimit": 2048000,
      "rowLimit": 10000
     },
     "inputWidgets": {},
     "nuid": "e28f2ef5-70e7-48a5-90c3-e942c7f45aa1",
     "showTitle": false,
     "tableResultSettingsMap": {},
     "title": ""
    }
   },
   "outputs": [],
   "source": [
    "#Parametros para facilitar a execução e reutilização do notebook para carga de diferentes anos e estados\n",
    "dbutils.widgets.text(\"anos_param\", \"2023,2022\", \"Lista de Anos\")\n",
    "dbutils.widgets.text(\"uf\", \"MG\", \"UF\")"
   ]
  },
  {
   "cell_type": "code",
   "execution_count": 0,
   "metadata": {
    "application/vnd.databricks.v1+cell": {
     "cellMetadata": {
      "byteLimit": 2048000,
      "rowLimit": 10000
     },
     "inputWidgets": {},
     "nuid": "bbaff40f-e016-4d35-ac04-9952785ed15b",
     "showTitle": false,
     "tableResultSettingsMap": {},
     "title": ""
    }
   },
   "outputs": [],
   "source": [
    "#Variaveis do Unity Catalog\n",
    "CATALOGO = \"agroclima\"\n",
    "SCHEMA = \"bronze\"\n",
    "TABELA = \"producao_milho\"\n",
    "\n",
    "# Montar caminho da tabela\n",
    "caminho_tabela = f\"{CATALOGO}.{SCHEMA}.{TABELA}\"\n",
    "\n"
   ]
  },
  {
   "cell_type": "code",
   "execution_count": 0,
   "metadata": {
    "application/vnd.databricks.v1+cell": {
     "cellMetadata": {
      "byteLimit": 2048000,
      "rowLimit": 10000
     },
     "inputWidgets": {},
     "nuid": "42ee6fe5-3193-42dd-9c75-fc4ea4c17eb9",
     "showTitle": false,
     "tableResultSettingsMap": {},
     "title": ""
    }
   },
   "outputs": [],
   "source": [
    "# Transforma os parametros em variaveis\n",
    "lista_anos = dbutils.widgets.get(\"anos_param\").split(\",\")\n",
    "uf = dbutils.widgets.get(\"uf\")"
   ]
  },
  {
   "cell_type": "code",
   "execution_count": 0,
   "metadata": {
    "application/vnd.databricks.v1+cell": {
     "cellMetadata": {
      "byteLimit": 2048000,
      "rowLimit": 10000
     },
     "inputWidgets": {},
     "nuid": "4acdeda6-0503-469f-9b46-afb5c3fca938",
     "showTitle": false,
     "tableResultSettingsMap": {},
     "title": ""
    }
   },
   "outputs": [],
   "source": [
    "# Seta Variavel com o Id da UF \n",
    "estado_id = obter_estado_id_por_uf(uf)\n"
   ]
  },
  {
   "cell_type": "code",
   "execution_count": 0,
   "metadata": {
    "application/vnd.databricks.v1+cell": {
     "cellMetadata": {
      "byteLimit": 2048000,
      "rowLimit": 10000
     },
     "inputWidgets": {},
     "nuid": "a0bda7df-f570-43a5-9fcb-77a9054225b9",
     "showTitle": false,
     "tableResultSettingsMap": {},
     "title": ""
    }
   },
   "outputs": [],
   "source": [
    "# Função que consome a API do IBGE e retorna dados de produção de milho\n",
    "def obter_producao_milho(ano, estado_id):\n",
    "       \n",
    "    # Cria URL com base nos parametros passados\n",
    "    IBGE_URL = f\"https://servicodados.ibge.gov.br/api/v3/agregados/839/periodos/{ano}/variaveis/109|216|214?localidades=N6[N3[{estado_id}]]&classificacao=81[114253,114254]\"\n",
    "    \n",
    "    # Executa API do IBGE buscando dados da Produção de Milho\n",
    "    dados_producao_milho = buscar_dados(IBGE_URL)\n",
    "\n",
    "    df_nomralizado_producao_milho = pd.json_normalize(dados_producao_milho)\n",
    "    \n",
    "    #Cria Dataframe com dados do Json\n",
    "    df_producao_milho = spark.createDataFrame(df_nomralizado_producao_milho)\n",
    "\n",
    "    #Adiciona colunas para controle de carga\n",
    "    df_producao_milho = df_producao_milho.withColumn(\"ano\", lit(ano)) \\\n",
    "           .withColumn(\"uf\", lit(uf)) \\\n",
    "           .withColumn(\"_data_ingestao\", current_timestamp())\n",
    "\n",
    "    return df_producao_milho\n"
   ]
  },
  {
   "cell_type": "code",
   "execution_count": 0,
   "metadata": {
    "application/vnd.databricks.v1+cell": {
     "cellMetadata": {
      "byteLimit": 2048000,
      "rowLimit": 10000
     },
     "inputWidgets": {},
     "nuid": "8451ae04-8e58-48b7-ba84-ff6b585a782a",
     "showTitle": false,
     "tableResultSettingsMap": {},
     "title": ""
    }
   },
   "outputs": [],
   "source": [
    "for ano in lista_anos:\n",
    "    try:\n",
    "        # Chama Função que consome a API com cada paramtero de Ano da Lista passada em parametro\n",
    "        df_producao_milho = obter_producao_milho(ano, estado_id)\n",
    "\n",
    "        #Cria Tabela Delta no Unity Catalog  atualizando somente ano e uf passado em parametro\n",
    "        df_producao_milho.write.format(\"delta\") \\\n",
    "            .mode(\"overwrite\") \\\n",
    "            .partitionBy(\"uf\", \"variavel\", \"ano\") \\\n",
    "            .option(\"replaceWhere\", f\"ano = {ano} AND uf = '{uf}'\") \\\n",
    "            .option(\"mergeSchema\", \"true\") \\\n",
    "            .saveAsTable(caminho_tabela)\n",
    "\n",
    "    except Exception as e:\n",
    "        pass"
   ]
  }
 ],
 "metadata": {
  "application/vnd.databricks.v1+notebook": {
   "computePreferences": {
    "hardware": {
     "accelerator": null,
     "gpuPoolId": null,
     "memory": null
    }
   },
   "dashboards": [],
   "environmentMetadata": {
    "base_environment": "",
    "environment_version": "3"
   },
   "inputWidgetPreferences": null,
   "language": "python",
   "notebookMetadata": {
    "pythonIndentUnit": 4
   },
   "notebookName": "1.1 - Extração Produção de Milho",
   "widgets": {
    "anos_param": {
     "currentValue": "2023,2022",
     "nuid": "f2be339c-ec6f-449b-9a0c-ed399a43cce9",
     "typedWidgetInfo": {
      "autoCreated": false,
      "defaultValue": "2023,2022",
      "label": "Lista de Anos",
      "name": "anos_param",
      "options": {
       "widgetDisplayType": "Text",
       "validationRegex": null
      },
      "parameterDataType": "String"
     },
     "widgetInfo": {
      "widgetType": "text",
      "defaultValue": "2023,2022",
      "label": "Lista de Anos",
      "name": "anos_param",
      "options": {
       "widgetType": "text",
       "autoCreated": null,
       "validationRegex": null
      }
     }
    },
    "uf": {
     "currentValue": "MG",
     "nuid": "fa6140c4-684f-457c-a35c-66072fe78f76",
     "typedWidgetInfo": {
      "autoCreated": false,
      "defaultValue": "MG",
      "label": "UF",
      "name": "uf",
      "options": {
       "widgetDisplayType": "Text",
       "validationRegex": null
      },
      "parameterDataType": "String"
     },
     "widgetInfo": {
      "widgetType": "text",
      "defaultValue": "MG",
      "label": "UF",
      "name": "uf",
      "options": {
       "widgetType": "text",
       "autoCreated": null,
       "validationRegex": null
      }
     }
    }
   }
  },
  "language_info": {
   "name": "python"
  }
 },
 "nbformat": 4,
 "nbformat_minor": 0
}
