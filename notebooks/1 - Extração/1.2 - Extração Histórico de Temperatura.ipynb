{
 "cells": [
  {
   "cell_type": "code",
   "execution_count": 0,
   "metadata": {
    "application/vnd.databricks.v1+cell": {
     "cellMetadata": {
      "byteLimit": 2048000,
      "rowLimit": 10000
     },
     "inputWidgets": {},
     "nuid": "96b085a3-3725-4690-8a42-48a429837e82",
     "showTitle": false,
     "tableResultSettingsMap": {},
     "title": ""
    }
   },
   "outputs": [],
   "source": [
    "# imports\n",
    "from utils.api import buscar_dados, obter_estado_id_por_uf\n",
    "from pyspark.sql.functions import lit, current_timestamp\n",
    "import time"
   ]
  },
  {
   "cell_type": "code",
   "execution_count": 0,
   "metadata": {
    "application/vnd.databricks.v1+cell": {
     "cellMetadata": {
      "byteLimit": 2048000,
      "rowLimit": 10000
     },
     "inputWidgets": {},
     "nuid": "e7c4d5f1-56a0-4346-a148-4c8165c487c3",
     "showTitle": false,
     "tableResultSettingsMap": {},
     "title": ""
    }
   },
   "outputs": [],
   "source": [
    "#Variaveis do Unity Catalog\n",
    "CATALOGO = \"agroclima\"\n",
    "SCHEMA = \"bronze\"\n",
    "TABELA = \"temperatura\"\n",
    "TABELA_LOCALIZACAO_MUNICIPIOS = \"localizacao_municipios\"\n",
    "\n",
    "# Montar caminho da tabela\n",
    "caminho_tabela = f\"{CATALOGO}.{SCHEMA}.{TABELA}\"\n",
    "caminho_tabela_localizacao = f\"{CATALOGO}.{SCHEMA}.{TABELA_LOCALIZACAO_MUNICIPIOS}\"\n"
   ]
  },
  {
   "cell_type": "code",
   "execution_count": 0,
   "metadata": {
    "application/vnd.databricks.v1+cell": {
     "cellMetadata": {
      "byteLimit": 2048000,
      "rowLimit": 10000
     },
     "inputWidgets": {},
     "nuid": "09483230-41f7-4e64-8f32-b6b444ce94bd",
     "showTitle": false,
     "tableResultSettingsMap": {},
     "title": ""
    }
   },
   "outputs": [],
   "source": [
    "\n",
    "#Parametros para facilitar a execução e reutilização do notebook para carga de diferentes anos e estados\n",
    "dbutils.widgets.text(\"anos_param\", \"2023,2022\", \"Lista de Anos\")\n",
    "dbutils.widgets.text(\"uf\", \"MG\", \"UF\")"
   ]
  },
  {
   "cell_type": "code",
   "execution_count": 0,
   "metadata": {
    "application/vnd.databricks.v1+cell": {
     "cellMetadata": {
      "byteLimit": 2048000,
      "rowLimit": 10000
     },
     "inputWidgets": {},
     "nuid": "ae4bc7d1-c6d5-47a0-869c-f0e8f90b17b9",
     "showTitle": false,
     "tableResultSettingsMap": {},
     "title": ""
    }
   },
   "outputs": [],
   "source": [
    "#Busca Dados de Localização dos Municipios\n",
    "URL_LOCALIZACAO_MUNICIPIOS = \"https://raw.githubusercontent.com/kelvins/municipios-brasileiros/main/json/municipios.json\"\n",
    "\n",
    "#Executa a API com a URL para buscar Municipios com Localização \n",
    "dados_municipios = buscar_dados(URL_LOCALIZACAO_MUNICIPIOS, encoding='utf-8-sig')\n",
    "\n",
    "# Cria Dataframe com Dados de Municipios\n",
    "df_localizacao_municipios = spark.createDataFrame(dados_municipios)"
   ]
  },
  {
   "cell_type": "code",
   "execution_count": 0,
   "metadata": {
    "application/vnd.databricks.v1+cell": {
     "cellMetadata": {
      "byteLimit": 2048000,
      "rowLimit": 10000
     },
     "inputWidgets": {},
     "nuid": "6e847224-30f7-4e7f-98f6-5d43bba5e1ca",
     "showTitle": false,
     "tableResultSettingsMap": {},
     "title": ""
    }
   },
   "outputs": [],
   "source": [
    "# Transforma os parametros em variaveis\n",
    "lista_anos = dbutils.widgets.get('anos_param').split(\",\")\n",
    "uf = dbutils.widgets.get('uf')\n",
    "\n",
    "# Seta Variavel com o Id da UF \n",
    "estado_id = obter_estado_id_por_uf(uf)"
   ]
  },
  {
   "cell_type": "code",
   "execution_count": 0,
   "metadata": {
    "application/vnd.databricks.v1+cell": {
     "cellMetadata": {
      "byteLimit": 2048000,
      "rowLimit": 10000
     },
     "inputWidgets": {},
     "nuid": "5930fb5e-cba6-4661-9b79-1806a1582638",
     "showTitle": false,
     "tableResultSettingsMap": {},
     "title": ""
    }
   },
   "outputs": [],
   "source": [
    "#Filtra Municipios da UF passada no parametro\n",
    "df_uf = df_localizacao_municipios.filter(df_localizacao_municipios['codigo_uf']  == estado_id)"
   ]
  },
  {
   "cell_type": "code",
   "execution_count": 0,
   "metadata": {
    "application/vnd.databricks.v1+cell": {
     "cellMetadata": {
      "byteLimit": 2048000,
      "rowLimit": 10000
     },
     "inputWidgets": {},
     "nuid": "224386fc-f725-4dbb-b348-cc1a102413a7",
     "showTitle": false,
     "tableResultSettingsMap": {},
     "title": ""
    }
   },
   "outputs": [],
   "source": [
    "# Função que obtem os dados de temperatura de um municipio\n",
    "def obter_temperaturas(ano, lat, lon, municipio_id):\n",
    "    \n",
    "    params = {\n",
    "       \"latitude\": f\"{lat}\",\n",
    "       \"longitude\": f\"{lon}\",\n",
    "       \"daily\": \"rain_sum,temperature_2m_mean,relative_humidity_2m_mean\",\n",
    "       \"timezone\": \"America/Sao_Paulo\",\n",
    "       \"start_date\": f\"{ano}-01-01\",\n",
    "       \"end_date\": f\"{ano}-12-31\"\n",
    "\n",
    "    }\n",
    "\n",
    "    URL_TEMPERATURA = f\"https://archive-api.open-meteo.com/v1/archive\"\n",
    "   \n",
    "    #Executa a API com a URL personalizada por municipio\n",
    "    dados_temperaturas = buscar_dados(URL_TEMPERATURA, params)\n",
    "\n",
    "    #adiciona Id do municipio ao json\n",
    "    dados_temperaturas['municipio_id'] = municipio_id\n",
    "\n",
    "    #adiciona ano ao json\n",
    "    dados_temperaturas['ano'] = ano\n",
    "    \n",
    "    return dados_temperaturas\n",
    "\n",
    "    "
   ]
  },
  {
   "cell_type": "code",
   "execution_count": 0,
   "metadata": {
    "application/vnd.databricks.v1+cell": {
     "cellMetadata": {
      "byteLimit": 2048000,
      "rowLimit": 10000
     },
     "inputWidgets": {},
     "nuid": "d2f52e3c-97a5-4bf5-b29d-5db3be70e21d",
     "showTitle": false,
     "tableResultSettingsMap": {},
     "title": ""
    }
   },
   "outputs": [],
   "source": [
    "# Lista para armazenar dados \n",
    "lista_temperaturas_por_municipio = []\n",
    "\n",
    "# Iteração nos Anos passado no parametro\n",
    "for ano in lista_anos:\n",
    "\n",
    "    # Iteração na lista de municipios\n",
    "    for municipio in df_uf.collect():\n",
    "        try:\n",
    "\n",
    "            #Executa a função que retorna os dados de Temperatura por municipio\n",
    "            temperatura_municipio = obter_temperaturas(ano, municipio['latitude'], municipio['longitude'], municipio['codigo_ibge'])\n",
    "\n",
    "            #Salva dados do municipio na Lista \n",
    "            lista_temperaturas_por_municipio.append(temperatura_municipio)\n",
    "\n",
    "        except Exception as e:\n",
    "            pass\n",
    "\n",
    "# Transforma a lista em um DataFrame\n",
    "df_temperaturas = spark.createDataFrame(lista_temperaturas_por_municipio)\n",
    "#display(df_final)"
   ]
  },
  {
   "cell_type": "code",
   "execution_count": 0,
   "metadata": {
    "application/vnd.databricks.v1+cell": {
     "cellMetadata": {
      "byteLimit": 2048000,
      "rowLimit": 10000
     },
     "inputWidgets": {},
     "nuid": "b0274f7f-5877-4d67-a4c1-c89ccbe7e907",
     "showTitle": false,
     "tableResultSettingsMap": {},
     "title": ""
    }
   },
   "outputs": [],
   "source": [
    "# Adiciona UF no DataFrame e Data de Ingestão\n",
    "df_temperaturas = df_temperaturas.withColumn(\"uf\", lit(uf)) \\\n",
    "                                  .withColumn(\"_data_ingestao\", current_timestamp())\n"
   ]
  },
  {
   "cell_type": "code",
   "execution_count": 0,
   "metadata": {
    "application/vnd.databricks.v1+cell": {
     "cellMetadata": {
      "byteLimit": 2048000,
      "rowLimit": 10000
     },
     "inputWidgets": {},
     "nuid": "6493fe3d-4240-4e2d-8a28-a40b86872751",
     "showTitle": false,
     "tableResultSettingsMap": {},
     "title": ""
    }
   },
   "outputs": [],
   "source": [
    "#Salva Dados de Teperatura sobreescrevendo apenas dados dos anos e uf passados em parametro\n",
    "df_temperaturas.write \\\n",
    "        .format(\"delta\") \\\n",
    "        .mode(\"overwrite\") \\\n",
    "        .partitionBy(\"uf\", \"ano\") \\\n",
    "        .option('replaceWhere', f\"ano in ({','.join(lista_anos)}) and uf = '{uf}'\") \\\n",
    "        .option(\"mergeSchema\", \"true\") \\\n",
    "        .saveAsTable(caminho_tabela)"
   ]
  },
  {
   "cell_type": "code",
   "execution_count": 0,
   "metadata": {
    "application/vnd.databricks.v1+cell": {
     "cellMetadata": {
      "byteLimit": 2048000,
      "rowLimit": 10000
     },
     "inputWidgets": {},
     "nuid": "6dacc98f-0022-4212-8d06-e62133ca59af",
     "showTitle": false,
     "tableResultSettingsMap": {},
     "title": ""
    }
   },
   "outputs": [],
   "source": [
    "# Adiciona Data de Ingestão\n",
    "df_localizacao_municipios = df_localizacao_municipios.withColumn(\"_data_ingestao\", current_timestamp())\n",
    "\n",
    "#Salva Dataframe como uma tabela Delta\n",
    "df_localizacao_municipios.write \\\n",
    "                            .format(\"delta\") \\\n",
    "                            .mode(\"overwrite\") \\\n",
    "                            .partitionBy(\"codigo_uf\") \\\n",
    "                            .option(\"mergeSchema\", \"true\") \\\n",
    "                            .saveAsTable(caminho_tabela_localizacao)"
   ]
  }
 ],
 "metadata": {
  "application/vnd.databricks.v1+notebook": {
   "computePreferences": {
    "hardware": {
     "accelerator": null,
     "gpuPoolId": null,
     "memory": null
    }
   },
   "dashboards": [],
   "environmentMetadata": {
    "base_environment": "",
    "environment_version": "3"
   },
   "inputWidgetPreferences": null,
   "language": "python",
   "notebookMetadata": {
    "pythonIndentUnit": 4
   },
   "notebookName": "1.2 - Extração Histórico de Temperatura",
   "widgets": {
    "anos_param": {
     "currentValue": "2019",
     "nuid": "e42df786-43ce-4350-8fe4-4a8ad2c06263",
     "typedWidgetInfo": {
      "autoCreated": false,
      "defaultValue": "2023,2022",
      "label": "Lista de Anos",
      "name": "anos_param",
      "options": {
       "widgetDisplayType": "Text",
       "validationRegex": null
      },
      "parameterDataType": "String"
     },
     "widgetInfo": {
      "widgetType": "text",
      "defaultValue": "2023,2022",
      "label": "Lista de Anos",
      "name": "anos_param",
      "options": {
       "widgetType": "text",
       "autoCreated": null,
       "validationRegex": null
      }
     }
    },
    "uf": {
     "currentValue": "MG",
     "nuid": "502111c3-b8ff-46d9-8d4e-1097d87e75da",
     "typedWidgetInfo": {
      "autoCreated": false,
      "defaultValue": "MG",
      "label": "UF",
      "name": "uf",
      "options": {
       "widgetDisplayType": "Text",
       "validationRegex": null
      },
      "parameterDataType": "String"
     },
     "widgetInfo": {
      "widgetType": "text",
      "defaultValue": "MG",
      "label": "UF",
      "name": "uf",
      "options": {
       "widgetType": "text",
       "autoCreated": null,
       "validationRegex": null
      }
     }
    }
   }
  },
  "language_info": {
   "name": "python"
  }
 },
 "nbformat": 4,
 "nbformat_minor": 0
}
